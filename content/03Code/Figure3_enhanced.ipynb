{
 "cells": [
  {
   "cell_type": "code",
   "execution_count": 93,
   "metadata": {
    "ExecuteTime": {
     "end_time": "2020-09-11T11:41:37.224759Z",
     "start_time": "2020-09-11T11:41:37.150950Z"
    },
    "code_folding": [
     23,
     27,
     33,
     41,
     47,
     55,
     66,
     71,
     97,
     113,
     121,
     129,
     137,
     149
    ]
   },
   "outputs": [
    {
     "data": {
      "text/html": [
       "        <script type=\"text/javascript\">\n",
       "        window.PlotlyConfig = {MathJaxConfig: 'local'};\n",
       "        if (window.MathJax) {MathJax.Hub.Config({SVG: {font: \"STIX-Web\"}});}\n",
       "        if (typeof require !== 'undefined') {\n",
       "        require.undef(\"plotly\");\n",
       "        requirejs.config({\n",
       "            paths: {\n",
       "                'plotly': ['https://cdn.plot.ly/plotly-latest.min']\n",
       "            }\n",
       "        });\n",
       "        require(['plotly'], function(Plotly) {\n",
       "            window._Plotly = Plotly;\n",
       "        });\n",
       "        }\n",
       "        </script>\n",
       "        "
      ]
     },
     "metadata": {},
     "output_type": "display_data"
    }
   ],
   "source": [
    "import numpy as np\n",
    "import pandas as pd\n",
    "import matplotlib.pyplot as plt\n",
    "%matplotlib inline\n",
    "from scipy.stats import hypergeom\n",
    "from scipy.stats import binned_statistic as binsta\n",
    "from scipy.special import logsumexp\n",
    "from util import *\n",
    "import palettable as pal\n",
    "clrx = pal.cartocolors.qualitative.Prism_10.mpl_colors\n",
    "clr = tuple(x for n,x in enumerate(clrx) if n in [1,2,4,5,6])\n",
    "clr2 = pal.cartocolors.sequential.agSunset_7.mpl_colors\n",
    "import matplotlib.gridspec as gridspec\n",
    "import matplotlib.patches as patches\n",
    "\n",
    "import plotly.graph_objects as go\n",
    "import plotly.tools as tls\n",
    "from plotly.offline import plot, iplot, init_notebook_mode\n",
    "from IPython.core.display import display, HTML\n",
    "init_notebook_mode(connected = True)\n",
    "config={'showLink': False, 'displayModeBar': False}\n",
    "\n",
    "# CCP, the Coupon Collector's Problem\n",
    "def ccp_sample(c,pool=60):\n",
    "    return len(set(np.random.choice(pool,c)))\n",
    "\n",
    "# Draw overlap\n",
    "def nab_sample(s,na,nb,pool=60):\n",
    "    sa = np.random.hypergeometric(s,pool-s,na)\n",
    "    nab = np.random.hypergeometric(sa,pool-sa,nb)\n",
    "    return nab\n",
    "\n",
    "# Overlap between two PCRs of depth c and overlap s\n",
    "def pcr_sample(c,s):\n",
    "    na = ccp_sample(c)\n",
    "    nb = ccp_sample(c)\n",
    "    return nab_sample(s,na,nb),na,nb\n",
    "\n",
    "# Draw na and nb samples from two populations of size pool_a and pool_b, with true overlap s\n",
    "# and return empirical overlap between na and nb\n",
    "# note that this is basically the same as nab_sample, but with two different size pools!\n",
    "def nab_sample_unequal(s,na,nb,pool_a,pool_b):\n",
    "    sa = np.random.hypergeometric(s,pool_a-s,na)\n",
    "    nab = np.random.hypergeometric(sa,pool_b-sa,nb)\n",
    "    return nab\n",
    "\n",
    "\n",
    "def p_ccp(c, pool=60):\n",
    "    p = np.zeros([c+1,pool+1])\n",
    "    p[0,0] = 1;\n",
    "    for row in range(1,c+1):\n",
    "        for k in range(1,np.min([row+2,pool+1])):\n",
    "            p[row,k] = p[row-1,k]*k/pool + p[row-1,k-1]*(1-(k-1)/pool)\n",
    "    return p[-1,:]\n",
    "\n",
    "def p_overlap(na,nb,nab,pool=60):\n",
    "    p_s = np.zeros(pool+1)\n",
    "    # reference: hypergeom.pmf(outcome, Total, hits, Draws, loc=0)\n",
    "    for s in np.arange(pool+1):\n",
    "        # p_sa is the probability that we'd get sa from the overlap (s), just in na draws of a\n",
    "        p_sa = hypergeom.pmf(np.arange(pool+1),pool,s,na)\n",
    "        # p_nab_given_sa is the probability of getting that nab, given sa\n",
    "        p_nab_given_sa = hypergeom.pmf(nab,pool,np.arange(pool+1),nb)\n",
    "        p_s[s] = np.dot(p_sa,p_nab_given_sa)\n",
    "    return p_s/np.sum(p_s)\n",
    "\n",
    "def e_overlap(na,nb,nab,pool=60):\n",
    "    p_s = p_overlap(na,nb,nab,pool=pool)\n",
    "    return np.dot(np.arange(pool+1),p_s)\n",
    "\n",
    "\n",
    "def credible_interval(na,nb,nab,pct=90,pool=60):\n",
    "    p_s = p_overlap(na,nb,nab,pool=pool)\n",
    "    cdf = np.cumsum(p_s)\n",
    "    ccdf = np.flipud(np.cumsum(np.flipud(p_s)))\n",
    "    # adjust for fractions vs percents; put everything as a fraction\n",
    "    if pct > 1:\n",
    "        pct = pct/100\n",
    "    cutoff = (1-pct)/2\n",
    "    # get the lower bound. \n",
    "    # it's the first index at which cdf ≥ cutoff\n",
    "    try:\n",
    "        lower = np.where(cdf >= cutoff)[0][0]\n",
    "    except IndexError:\n",
    "        lower = 0\n",
    "    # get the upper bound\n",
    "    # it's the first index at which ccdf ≥ 0.05\n",
    "    try:\n",
    "        upper = np.where(ccdf >= cutoff)[0][-1]\n",
    "    except IndexError:\n",
    "        upper=pool\n",
    "    expectation = np.dot(np.arange(pool+1),p_s)\n",
    "    # Sanity and indexing check: uncomment this line to see true tail probability ≤ 0.05\n",
    "    # print([cdf[lower-1],(1-ccdf[upper+1])])\n",
    "    return lower,expectation,upper\n",
    "\n",
    "\n",
    "def p_nab_given_c(s,c,pool=60):\n",
    "    pna = p_ccp(c)\n",
    "    pnb = p_ccp(c)\n",
    "    nas = np.arange(1,len(pna))\n",
    "    nbs = np.arange(1,len(pnb))\n",
    "    p_gen = np.zeros([pool+1,pool+1,pool+1])\n",
    "    for na in nas:\n",
    "        p_sa = hypergeom.pmf(np.arange(pool+1),pool,s,na)\n",
    "        for nb in nbs:\n",
    "            pna_pnb = pna[na] * pnb[nb]\n",
    "            for nab in range(0,np.minimum(na,nb)):\n",
    "                p_nab_given_sa = hypergeom.pmf(nab,pool,np.arange(pool+1),nb)\n",
    "                p_nab_given_s = np.dot(p_sa,p_nab_given_sa)\n",
    "                p_gen[na,nb,nab] = p_nab_given_s * pna_pnb\n",
    "    return p_gen\n",
    "\n",
    "def p_shat_given_sc(s,c,shat,pool=60):\n",
    "    masses = p_nab_given_c(s,c,pool=pool)\n",
    "    if np.sum(masses)<0.99:\n",
    "        print('Swapping to Monte Carlo')\n",
    "        return p_shat_given_sc_montecarlo(s,c,shat,pool=pool)\n",
    "    hist = binsta(np.ravel(shat),np.ravel(masses),statistic='sum',bins=(np.arange(pool+2)-0.5))\n",
    "    return hist\n",
    "\n",
    "def p_shat_given_sc_montecarlo(s,c,shat,pool=60,n_mc=int(1e5)):\n",
    "    masses = np.zeros([pool+1,pool+1,pool+1])\n",
    "    for ii in range(n_mc):\n",
    "        nab,na,nb = pcr_sample(c,s)\n",
    "        masses[na,nb,nab] += 1\n",
    "    hist = binsta(np.ravel(shat),np.ravel(masses/n_mc),statistic='sum',bins=(np.arange(pool+2)-0.5))\n",
    "    return hist\n",
    "\n",
    "def compute_all_estimates(pool=60):\n",
    "    shat = np.zeros([pool+1,pool+1,pool+1])\n",
    "    for na in range(1,pool+1):\n",
    "        for nb in range(1,pool+1):\n",
    "            for nab in range(0,np.minimum(na+1,nb+1)):\n",
    "                shat[na,nb,nab] = e_overlap(na,nb,nab,pool=pool)\n",
    "    return shat\n",
    "\n",
    "def p_overlap_unequal(na,nb,nab,pool_a,pool_b):\n",
    "    # all loops are in terms of pool_a, which is assumed to be ≤ pool_b. \n",
    "    p_s = np.zeros(pool_a+1)\n",
    "    # reference: hypergeom.pmf(outcome, Total, hits, Draws, loc=0)\n",
    "    for s in np.arange(pool_a+1):\n",
    "        # p_sa is the probability that we'd get sa from the overlap (s), just in na draws of a\n",
    "        p_sa = hypergeom.pmf(np.arange(pool_a+1),pool_a,s,na)\n",
    "        # p_nab_given_sa is the probability of getting that nab, given sa\n",
    "        p_nab_given_sa = hypergeom.pmf(nab,pool_b,np.arange(pool_a+1),nb)\n",
    "        p_s[s] = np.dot(p_sa,p_nab_given_sa)\n",
    "    return p_s/np.sum(p_s)\n",
    "\n",
    "def e_overlap_unequal(na,nb,nab,pool_a,pool_b):\n",
    "    # TODO. Code expects that pool_b > pool_a...\n",
    "    p_s = p_overlap_unequal(na,nb,nab,pool_a,pool_b)\n",
    "    return np.dot(np.arange(pool_a+1),p_s)\n"
   ]
  },
  {
   "cell_type": "code",
   "execution_count": 99,
   "metadata": {
    "ExecuteTime": {
     "end_time": "2020-09-11T11:48:59.561460Z",
     "start_time": "2020-09-11T11:47:49.079366Z"
    }
   },
   "outputs": [],
   "source": [
    "# shat = compute_all_estimates(pool=60)\n",
    "# np.save('shat_60.npy',shat)\n",
    "shat = np.load('shat_60.npy')\n",
    "planted_new = []\n",
    "recovered_new = []\n",
    "recovered_pts_new = []\n",
    "pool=60\n",
    "reps=4\n",
    "\n",
    "# Temps\n",
    "x1 = 30\n",
    "# Calculate list for 30-50 steps \n",
    "for i in range(0, 7, 1):\n",
    "    recovered = np.zeros([6,reps,pool+1])\n",
    "    planted = np.zeros([6,reps,pool+1])\n",
    "    recovered_pts = np.zeros([6,reps,pool+1])\n",
    "    \n",
    "    # Calculate for row 30-32, 33-35, 36-38, 39-41, 42-44, 45-47, 48-50\n",
    "    nas = [x1, x1+1, x1+2]\n",
    "    for idxa,na in enumerate(nas):\n",
    "        nb = na\n",
    "        for s in np.arange(0,pool+1,1):\n",
    "            for rep in range(3):\n",
    "                nab = nab_sample(s,na,nb)\n",
    "                planted[idxa,rep,s] = s\n",
    "                recovered[idxa,rep,s] = e_overlap(na,nb,nab)\n",
    "                recovered_pts[idxa,rep,s] = 2*nab/(na+nb)\n",
    "                \n",
    "    # Flatten arrays \n",
    "    for index in range(3):\n",
    "        tmp1 = planted[index,:,:]\n",
    "        tmp2 = recovered[index,:,:]\n",
    "        tmp3 = recovered_pts[index,:,:]\n",
    "\n",
    "        planted_new.append( tmp1.flatten() )\n",
    "        recovered_new.append( tmp2.flatten() )\n",
    "        recovered_pts_new.append( tmp3.flatten() )\n",
    "    x1 = x1 + 3\n",
    "    \n",
    "#     # Append to main \n",
    "#     for index in range(3):\n",
    "#         planted_new.append(planted1[index])\n",
    "#         recovered_new.append(recovered1[index])\n",
    "#         recovered_pts_new.append(recovered_pts1[index])"
   ]
  },
  {
   "cell_type": "code",
   "execution_count": 86,
   "metadata": {
    "ExecuteTime": {
     "end_time": "2020-09-11T11:37:25.053724Z",
     "start_time": "2020-09-11T11:37:25.045429Z"
    },
    "code_folding": [
     0
    ]
   },
   "outputs": [],
   "source": [
    "# fig3 = go.Figure()\n",
    "# z = np.zeros(60)\n",
    "# d = np.arange(1,60)\n",
    "\n",
    "# fig3.add_trace(go.Scatter(x = d , y = d, line = dict(width=1, dash='dash', color = 'rgb(0,0,0)'), name = 'Reference', showlegend = False))\n",
    "\n",
    "# fig3.add_trace(go.Scatter(x=planted_new[12], y=recovered_new[12],\n",
    "#                     mode='markers',\n",
    "#                     name = 'BRO',\n",
    "#                   marker=dict(color='rgba(129,105,177,0.85)')))\n",
    "\n",
    "# fig3.add_trace(go.Scatter(x=planted_new[12], y=pool*recovered_pts_new[12],\n",
    "#                     mode='markers',\n",
    "#                     name = 'S',\n",
    "#                     marker_symbol = \"x\",\n",
    "#                     marker=dict(color='gray')))\n",
    "\n",
    "# fig3.update_layout(plot_bgcolor='rgb(255,255,255)',xaxis_title=\"True overlap s\",\n",
    "#     yaxis_title='Estimated overlap \\u015D', legend=dict(x=.85, y=.1))\n",
    "# fig3.update_xaxes(ticks = 'outside', showline=True, linecolor='black')\n",
    "# fig3.update_yaxes(ticks = 'outside', showline=True, linecolor='black')\n",
    "\n",
    "# plot(fig3, filename = 'fig3.html', config = config)\n",
    "# iplot(fig3)"
   ]
  },
  {
   "cell_type": "code",
   "execution_count": 101,
   "metadata": {
    "ExecuteTime": {
     "end_time": "2020-09-11T11:49:13.270363Z",
     "start_time": "2020-09-11T11:49:13.261384Z"
    }
   },
   "outputs": [
    {
     "data": {
      "text/plain": [
       "21"
      ]
     },
     "execution_count": 101,
     "metadata": {},
     "output_type": "execute_result"
    }
   ],
   "source": [
    "len(planted_new)"
   ]
  },
  {
   "cell_type": "code",
   "execution_count": 102,
   "metadata": {
    "ExecuteTime": {
     "end_time": "2020-09-11T11:49:14.880897Z",
     "start_time": "2020-09-11T11:49:14.870895Z"
    }
   },
   "outputs": [
    {
     "data": {
      "text/plain": [
       "array([False, False, False, False, False, False, False, False, False,\n",
       "       False, False, False, False, False, False, False, False, False,\n",
       "       False, False, False, False, False, False, False, False, False,\n",
       "       False, False, False, False, False, False, False, False, False,\n",
       "       False, False, False, False, False, False, False, False, False,\n",
       "       False, False, False, False, False, False, False, False, False,\n",
       "       False, False, False, False, False, False, False, False, False,\n",
       "       False, False, False, False, False, False, False, False, False,\n",
       "       False, False, False, False, False, False, False, False, False,\n",
       "       False, False, False, False, False, False, False, False, False,\n",
       "       False, False, False, False, False, False, False, False, False,\n",
       "       False, False, False, False, False, False, False, False, False,\n",
       "       False, False, False, False, False, False, False, False, False,\n",
       "       False, False, False, False, False, False, False, False, False,\n",
       "       False, False, False, False, False, False, False, False, False,\n",
       "       False, False, False, False, False, False, False, False, False,\n",
       "       False, False, False, False, False, False, False, False, False,\n",
       "       False, False, False, False, False, False, False, False, False,\n",
       "       False, False, False, False, False, False, False, False, False,\n",
       "       False, False, False, False, False, False, False, False, False,\n",
       "       False, False, False,  True,  True,  True,  True,  True,  True,\n",
       "        True,  True,  True,  True,  True,  True,  True,  True,  True,\n",
       "        True,  True,  True,  True,  True,  True,  True,  True,  True,\n",
       "        True,  True,  True,  True,  True,  True,  True,  True,  True,\n",
       "        True,  True,  True,  True,  True,  True,  True,  True,  True,\n",
       "        True,  True,  True,  True,  True,  True,  True,  True,  True,\n",
       "        True,  True,  True,  True,  True,  True,  True,  True,  True,\n",
       "        True])"
      ]
     },
     "execution_count": 102,
     "metadata": {},
     "output_type": "execute_result"
    }
   ],
   "source": [
    "recovered_new[0] == recovered_new[2]"
   ]
  },
  {
   "cell_type": "code",
   "execution_count": 103,
   "metadata": {
    "ExecuteTime": {
     "end_time": "2020-09-11T11:49:19.289106Z",
     "start_time": "2020-09-11T11:49:19.262178Z"
    }
   },
   "outputs": [],
   "source": [
    "data = []\n",
    "\n",
    "trace0 = go.Scatter(x = d , \n",
    "                    y = d, \n",
    "                    line = dict(width=1, dash='dash', color = 'rgb(0,0,0)'), \n",
    "                    name = 'Reference', \n",
    "                    showlegend = False)\n",
    "\n",
    "colors = ['rgba(129,105,177,0.85)', 'rgba(172,110,191,0.85)','rgba(215,128,193,0.85)'] \n",
    "current_color = 0\n",
    "\n",
    "for index in range(len(planted_new)):\n",
    "    \n",
    "    if index > 5:\n",
    "        current_color = 1\n",
    "        \n",
    "    elif index > 15:\n",
    "        current_color = 2\n",
    "        \n",
    "    \n",
    "    trace1 = go.Scatter(x=planted_new[index], \n",
    "                        y=recovered_new[index],\n",
    "                        mode='markers',\n",
    "                        name = 'BRO',\n",
    "                        visible = False,\n",
    "                        marker=dict(color=colors[current_color]))\n",
    "    \n",
    "    trace2 = go.Scatter(x=planted_new[index], \n",
    "                        y=pool*recovered_pts_new[index],\n",
    "                        mode='markers',\n",
    "                        name = 'S',\n",
    "                        visible = False,\n",
    "                        marker_symbol = \"x\",\n",
    "                        marker=dict(color='gray'))\n",
    "    \n",
    "    data.append(trace1)\n",
    "    data.append(trace2)\n",
    "\n",
    "data.append(trace0)"
   ]
  },
  {
   "cell_type": "code",
   "execution_count": 104,
   "metadata": {
    "ExecuteTime": {
     "end_time": "2020-09-11T11:49:20.063364Z",
     "start_time": "2020-09-11T11:49:20.051396Z"
    }
   },
   "outputs": [
    {
     "data": {
      "text/plain": [
       "43"
      ]
     },
     "execution_count": 104,
     "metadata": {},
     "output_type": "execute_result"
    }
   ],
   "source": [
    "len(data)"
   ]
  },
  {
   "cell_type": "code",
   "execution_count": 106,
   "metadata": {
    "ExecuteTime": {
     "end_time": "2020-09-11T12:00:15.276012Z",
     "start_time": "2020-09-11T12:00:15.031667Z"
    }
   },
   "outputs": [
    {
     "data": {
      "text/plain": [
       "'fig3_enhanced.html'"
      ]
     },
     "execution_count": 106,
     "metadata": {},
     "output_type": "execute_result"
    }
   ],
   "source": [
    "# Toggle first trace to be visible\n",
    "data[0]['visible'] = True\n",
    "data[1]['visible'] = True\n",
    "\n",
    "\n",
    "# Create steps and slider\n",
    "steps = []\n",
    "for i in range(0, len(planted_new)):\n",
    "    step = dict(\n",
    "        method = 'restyle',  \n",
    "        args = ['visible', [False]*43],\n",
    "        label = str(i+30)) \n",
    "    \n",
    "    step['args'][1][i*2] = True \n",
    "    step['args'][1][i*2+1] = True \n",
    "    step['args'][1][-1] = True\n",
    "    steps.append(step)\n",
    "\n",
    "sliders = [dict(\n",
    "    active = 0,\n",
    "    currentvalue = {'prefix':\n",
    "                    \"<i>Sample size</i>: <b>\"},\n",
    "    pad = {\"t\": 80, \"b\": 10},\n",
    "    steps = steps\n",
    ")]\n",
    "\n",
    "# Setup the layout of the figure\n",
    "layout = go.Layout(title = \"Figure 3: Bayesian overlap\",\n",
    "                   title_x = 0.5, \n",
    "                   plot_bgcolor='rgb(255,255,255)',\n",
    "                   xaxis_title=\"True overlap s\",\n",
    "                   yaxis_title='Estimated overlap \\u015D', \n",
    "                   legend=dict(x=.85, y=.1),\n",
    "                   width = 800, \n",
    "                   height = 450,\n",
    "                   sliders = sliders,\n",
    "                   font = dict(size = 10),\n",
    "                   margin=go.layout.Margin(l=50,\n",
    "                                         r=50,\n",
    "                                         b=60,\n",
    "                                         t=35))\n",
    "\n",
    "# Plot function saves as html or with ipplot\n",
    "fig_enhanced = dict(data=data, layout=layout)\n",
    "plot(fig_enhanced, filename = 'fig3_enhanced.html', config = config)\n",
    "# display(HTML('fig3_enhanced.html'))"
   ]
  },
  {
   "cell_type": "code",
   "execution_count": null,
   "metadata": {},
   "outputs": [],
   "source": []
  }
 ],
 "metadata": {
  "kernelspec": {
   "display_name": "Python 3",
   "language": "python",
   "name": "python3"
  },
  "language_info": {
   "codemirror_mode": {
    "name": "ipython",
    "version": 3
   },
   "file_extension": ".py",
   "mimetype": "text/x-python",
   "name": "python",
   "nbconvert_exporter": "python",
   "pygments_lexer": "ipython3",
   "version": "3.7.7"
  },
  "latex_envs": {
   "LaTeX_envs_menu_present": true,
   "autoclose": false,
   "autocomplete": true,
   "bibliofile": "biblio.bib",
   "cite_by": "apalike",
   "current_citInitial": 1,
   "eqLabelWithNumbers": true,
   "eqNumInitial": 1,
   "hotkeys": {
    "equation": "Ctrl-E",
    "itemize": "Ctrl-I"
   },
   "labels_anchors": false,
   "latex_user_defs": false,
   "report_style_numbering": false,
   "user_envs_cfg": false
  }
 },
 "nbformat": 4,
 "nbformat_minor": 4
}
